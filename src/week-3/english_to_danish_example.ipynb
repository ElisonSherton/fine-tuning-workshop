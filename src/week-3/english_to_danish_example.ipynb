{
 "cells": [
  {
   "cell_type": "code",
   "execution_count": 1,
   "id": "bf758636-54d6-4e0e-84ca-c684828c7cf0",
   "metadata": {},
   "outputs": [
    {
     "name": "stderr",
     "output_type": "stream",
     "text": [
      "/Users/scottkramer/.pyenv/versions/3.8.16/envs/fine-tuning-workshop/lib/python3.8/site-packages/sentence_transformers/cross_encoder/CrossEncoder.py:11: TqdmExperimentalWarning: Using `tqdm.autonotebook.tqdm` in notebook mode. Use `tqdm.tqdm` instead to force console mode (e.g. in jupyter console)\n",
      "  from tqdm.autonotebook import tqdm, trange\n",
      "No model was supplied, defaulted to distilbert/distilbert-base-uncased-finetuned-sst-2-english and revision af0f99b (https://huggingface.co/distilbert/distilbert-base-uncased-finetuned-sst-2-english).\n",
      "Using a pipeline without specifying a model name and revision in production is not recommended.\n",
      "/Users/scottkramer/.pyenv/versions/3.8.16/envs/fine-tuning-workshop/lib/python3.8/site-packages/huggingface_hub/file_download.py:1132: FutureWarning: `resume_download` is deprecated and will be removed in version 1.0.0. Downloads always resume when possible. If you want to force a new download, use `force_download=True`.\n",
      "  warnings.warn(\n"
     ]
    }
   ],
   "source": [
    "import json\n",
    "\n",
    "from fireworks.client import Fireworks\n",
    "import numpy as np\n",
    "import pandas as pd\n",
    "import pronouncing\n",
    "from sentence_transformers import SentenceTransformer, util\n",
    "from transformers import pipeline\n",
    "\n",
    "sentiment_pipeline = pipeline(\"sentiment-analysis\")\n",
    "embeddings_model = SentenceTransformer('Alibaba-NLP/gte-base-en-v1.5', trust_remote_code=True)"
   ]
  },
  {
   "cell_type": "code",
   "execution_count": 2,
   "id": "a04b8234-2821-40bf-92e1-51220f2f11b0",
   "metadata": {},
   "outputs": [],
   "source": [
    "# Make sure you have the FIREWORKS_API_KEY set to your account's key!\n",
    "client = Fireworks()"
   ]
  },
  {
   "cell_type": "code",
   "execution_count": 9,
   "id": "4c1c11cd-27da-4c9e-98e6-df1d7364f2c0",
   "metadata": {},
   "outputs": [],
   "source": [
    "system_message = 'Translate the English sentence to Danish. Your response must contain ONLY the translated sentence.'\n",
    "def format_translation_for_fireworks(english_sentence, danish_sentence):\n",
    "    return {\"messages\": [\n",
    "        {\"role\": \"system\", \"content\": system_message}, \n",
    "        {\"role\": \"user\", \"content\": english_sentence}, \n",
    "        {\"role\": \"assistant\", \"content\": danish_sentence}\n",
    "    ]}\n",
    "\n",
    "df = pd.read_csv('english_to_danish.csv')\n",
    "json_objs = list()\n",
    "for i, row in enumerate(df.iterrows()):\n",
    "    msg = format_translation_for_fireworks(row[1]['English'], row[1]['Danish'])\n",
    "    json_objs.append(msg)\n",
    "\n",
    "dataset_file_name = 'danish_training_data.jsonl'\n",
    "with open(dataset_file_name, 'w') as f:\n",
    "    for obj in json_objs:\n",
    "        json.dump(obj, f)\n",
    "        f.write('\\n')"
   ]
  },
  {
   "cell_type": "code",
   "execution_count": 10,
   "id": "2e40dd1d-6ce1-4de0-b05e-e22a990df9bf",
   "metadata": {},
   "outputs": [
    {
     "name": "stdout",
     "output_type": "stream",
     "text": [
      "2024/06/28 14:19:18 There are updates available.\n",
      "Current version: 1.1.1\n",
      "Latest version: 1.2.0\n",
      "\n",
      "To upgrade to the latest version, run\n",
      "  $ sudo firectl upgrade\n",
      "\n",
      "20.63 KiB / 20.63 KiB [------------------------------------] 100.00% ? p/s 100ms\n"
     ]
    }
   ],
   "source": [
    "# Upload our dataset to fireworks\n",
    "!firectl create dataset danish-training-data-v1 {dataset_file_name}"
   ]
  },
  {
   "cell_type": "code",
   "execution_count": 12,
   "id": "f6835674-d64c-4d04-8dcd-432091f37add",
   "metadata": {},
   "outputs": [
    {
     "name": "stdout",
     "output_type": "stream",
     "text": [
      "2024/06/28 14:19:32 There are updates available.\n",
      "Current version: 1.1.1\n",
      "Latest version: 1.2.0\n",
      "\n",
      "To upgrade to the latest version, run\n",
      "  $ sudo firectl upgrade\n",
      "\n",
      "NAME                     CREATE TIME          STATE  DISPLAY_NAME\n",
      "chatbot-arena-10k-v1     2024-06-16 09:33:47  READY  \n",
      "chatbot-arena-1k-v1      2024-06-16 10:44:33  READY  \n",
      "chatbot-arena-1k-v2      2024-06-18 09:26:18  READY  \n",
      "chatbot-arena-2k-v1      2024-06-18 13:52:21  READY  \n",
      "chatbot-arena-2k-v3      2024-06-18 17:50:47  READY  \n",
      "chatbot-arena-4k-v1      2024-06-18 15:02:57  READY  \n",
      "chatbot-arena-v1         2024-06-18 19:13:53  READY  \n",
      "chatbot-arena-v2         2024-06-18 19:15:32  READY  \n",
      "chatbot-arena-v3         2024-06-18 19:23:27  READY  \n",
      "danish-training-data-v1  2024-06-28 14:19:19  READY  \n",
      "poem-training-data-v1    2024-06-25 23:03:20  READY  \n",
      "\n",
      "Total size: 11\n"
     ]
    }
   ],
   "source": [
    "!firectl list datasets"
   ]
  },
  {
   "cell_type": "code",
   "execution_count": 13,
   "id": "b81417a9-a50e-4dea-b1ab-03d6f3f56c9b",
   "metadata": {},
   "outputs": [
    {
     "name": "stdout",
     "output_type": "stream",
     "text": [
      "2024/06/28 14:24:13 There are updates available.\n",
      "Current version: 1.1.1\n",
      "Latest version: 1.2.0\n",
      "\n",
      "To upgrade to the latest version, run\n",
      "  $ sudo firectl upgrade\n",
      "\n",
      "Name: accounts/sdkramer10-5e98cb/fineTuningJobs/f283a791b01b4c4b80d3d75bf5c22bcf\n",
      "Display Name: danish-translation-v1\n",
      "Create Time: 2024-06-28 14:24:14\n",
      "State: CREATING\n",
      "Dataset: accounts/sdkramer10-5e98cb/datasets/danish-training-data-v1\n",
      "Created By: sdkramer10@gmail.com\n",
      "Container Version: \n",
      "Model Id: \n",
      "Wandb Url: \n",
      "Conversation:\n",
      "  Jinja Template: {%- set _mode = mode | default('generate', true) -%}\n",
      "{%- set stop_token = '<|eot_id|>' -%}\n",
      "{%- set message_roles = ['SYSTEM', 'USER', 'ASSISTANT'] -%}\n",
      "{%- set ns = namespace(initial_system_message_handled=false, last_assistant_index_for_eos=-1, messages=messages) -%}\n",
      "{%- for message in ns.messages -%}\n",
      "    {%- if not message.get('role') -%}\n",
      "        {{ raise_exception('Key [role] is missing. Original input: ' +  message|tojson) }}\n",
      "    {%- endif -%}\n",
      "    {%- if message['role'] | upper not in message_roles -%}\n",
      "        {{ raise_exception('Invalid role ' + message['role']|tojson + '. Only ' + message_roles|tojson + ' are supported.') }}\n",
      "    {%- endif -%}\n",
      "    {%- if 'content' not in message -%}\n",
      "        {{ raise_exception('Key [content] is missing. Original input: ' +  message|tojson) }}\n",
      "    {%- endif -%}\n",
      "    {%- if loop.last and message['role'] | upper == 'ASSISTANT' -%}\n",
      "        {%- set ns.last_assistant_index_for_eos = loop.index0 -%}\n",
      "    {%- endif -%}\n",
      "{%- endfor -%}\n",
      "{%- if _mode == 'generate' -%}\n",
      "    {{ bos_token }}\n",
      "{%- endif -%}\n",
      "{%- for message in ns.messages -%}\n",
      "    {%- if message['role'] | upper == 'SYSTEM' and not ns.initial_system_message_handled -%}\n",
      "        {%- set ns.initial_system_message_handled = true -%}\n",
      "        {{ '<|start_header_id|>system<|end_header_id|>\\n\\n' + message['content'] + stop_token }}\n",
      "    {%- elif message['role'] | upper != 'SYSTEM' -%}\n",
      "        {%- if (message['role'] | upper == 'USER') != ((loop.index0 - (1 if ns.initial_system_message_handled else 0)) % 2 == 0) -%}\n",
      "            {{ raise_exception('Conversation roles must alternate user/assistant/user/assistant/...') }}\n",
      "        {%- endif -%}\n",
      "        {%- if message['role'] | upper == 'USER' -%}\n",
      "            {{ '<|start_header_id|>user<|end_header_id|>\\n\\n' + message['content'] + stop_token }}\n",
      "        {%- elif message['role'] | upper == 'ASSISTANT' -%}\n",
      "            {%- if _mode == 'train' -%}\n",
      "                {{ '<|start_header_id|>assistant<|end_header_id|>\\n\\n' + unk_token + message['content'] + stop_token + unk_token }}\n",
      "            {%- else -%}\n",
      "                {{ '<|start_header_id|>assistant<|end_header_id|>\\n\\n' + message['content'] + (stop_token if loop.index0 != ns.last_assistant_index_for_eos else '') }}\n",
      "            {%- endif -%}\n",
      "        {%- endif -%}\n",
      "    {%- endif -%}\n",
      "{%- endfor -%}\n",
      "{%- if _mode == 'generate' and ns.last_assistant_index_for_eos == -1 -%}\n",
      "    {{ '<|start_header_id|>assistant<|end_header_id|>' }}\n",
      "{%- endif -%}\n",
      "Base Model: meta-llama/Meta-Llama-3-8B-Instruct\n",
      "Epochs: 2\n",
      "Learning Rate: 0.0002\n",
      "Lora Rank: 32\n",
      "Batch Size: 4\n",
      "Wandb Entity: \n",
      "Wandb Api Key: \n",
      "Wandb Project: \n"
     ]
    }
   ],
   "source": [
    "# Create a fine-tuning job\n",
    "!firectl create fine-tuning-job --settings-file danish_fine_tuning_config.yaml --display-name danish-translation-v1 --dataset danish-training-data-v1 "
   ]
  },
  {
   "cell_type": "code",
   "execution_count": 59,
   "id": "317124d0-4eb2-4752-9cf1-545f3c4a3c76",
   "metadata": {},
   "outputs": [
    {
     "name": "stdout",
     "output_type": "stream",
     "text": [
      "2024/06/28 15:24:14 There are updates available.\n",
      "Current version: 1.1.1\n",
      "Latest version: 1.2.0\n",
      "\n",
      "To upgrade to the latest version, run\n",
      "  $ sudo firectl upgrade\n",
      "\n",
      "NAME                              CREATE TIME          KIND           CHAT  PUBLIC  STATE      STATUS MESSAGE\n",
      "489aabe3b8274492a226629f28aa8d4f  2024-06-25 23:13:41  HF_PEFT_ADDON  true  false   PREPARING  \n",
      "4fe290a74b72458cafe0c9d8881e5d37  2024-06-18 19:36:34  HF_PEFT_ADDON  true  false   PREPARING  \n",
      "8ec0b7dd59b54c09926ff87e14c02f3d  2024-06-25 23:19:30  HF_PEFT_ADDON  true  false   PREPARING  \n",
      "cc8324868ff04936855cffb392dba3b8  2024-06-18 19:31:50  HF_PEFT_ADDON  true  false   PREPARING  \n",
      "f283a791b01b4c4b80d3d75bf5c22bcf  2024-06-28 14:28:15  HF_PEFT_ADDON  true  false   PREPARING  \n",
      "\n",
      "Total size: 5\n"
     ]
    }
   ],
   "source": [
    "!firectl list models"
   ]
  },
  {
   "cell_type": "code",
   "execution_count": 43,
   "id": "aac6751e-a3c2-4f51-97e6-62dd1bec3de4",
   "metadata": {},
   "outputs": [],
   "source": [
    "model_id = 'f283a791b01b4c4b80d3d75bf5c22bcf'\n",
    "account_id = 'sdkramer10-5e98cb'\n",
    "ft_model_name = f'accounts/{account_id}/models/{model_id}'\n",
    "base_model_name = \"accounts/fireworks/models/llama-v3-8b-instruct\""
   ]
  },
  {
   "cell_type": "code",
   "execution_count": 62,
   "id": "6b50a3a0-2b8d-419d-9246-b5e4d7a2617e",
   "metadata": {},
   "outputs": [
    {
     "name": "stdout",
     "output_type": "stream",
     "text": [
      "2024/06/28 15:28:52 There are updates available.\n",
      "Current version: 1.1.1\n",
      "Latest version: 1.2.0\n",
      "\n",
      "To upgrade to the latest version, run\n",
      "  $ sudo firectl upgrade\n",
      "\n"
     ]
    }
   ],
   "source": [
    "!firectl deploy {model_id}"
   ]
  },
  {
   "cell_type": "code",
   "execution_count": null,
   "id": "2f9bb602-6d45-4a4e-b065-2002cf951f7a",
   "metadata": {},
   "outputs": [
    {
     "name": "stdout",
     "output_type": "stream",
     "text": [
      "<|start_header_id|><|start_header_id|>Solen skinner i dag.\n",
      "<|start_header_id|> Hun løber fem miles hver morgen.\n",
      "<|start_header_id|><|start_header_id|>Min yndlingsfarve er blå.\n",
      "<|start_header_id|><|start_header_id|>De planlægger en overraskelsfest.\n",
      "<|start_header_id|><|start_header_id|>Han spiller guitar meget godt.\n",
      "<|start_header_id|><|start_header_id|>Vi skal færdige dette projekt inden fredag.\n",
      "<|start_header_id|>Har du set den nye film endnu?\n",
      "<|start_header_id|> Hun taler tre sprog flydende.\n",
      "\n",
      "<|start_header_id|> Jeg elsker at spise pizza med ekstra ost.\n",
      "<|start_header_id|>Han nyder sig til at lytte til klassisk musik.\n",
      "<|start_header_id|><|start_header_id|>Mødet starter præcis kl. 9.\n",
      "<|start_header_id|>Kan du lide noget med i weekenden?\n",
      "\n",
      "<|start_header_id|> Vi burde tage en tur i parken.\n",
      "<|start_header_id|>\n",
      "\n",
      "<|start_header_id|> Hun vil gerne rejse rundt omkring i verden.\n",
      "<|start_header_id|> Dette restaurant server smagfuld mad.\n",
      "<|start_header_id|><|start_header_id|>De maler deres hus denne weekend.\n",
      "<|start_header_id|>Har du nogensinde været i Paris før?\n",
      "<|start_header_id|><|start_header_id|>Han skal først færdiggøre sine lektier.\n",
      "<|start_header_id|> Hun lærer at spille klaver.\n",
      "<|start_header_id|> Lad os mødes på cafeen omkring 5 PM.\n",
      "<|start_header_id|> Jeg foretrækker te frem for kaffe om morgenen.\n",
      "<|start_header_id|><|start_header_id|>Han studerer hårdt til sine eksamener.\n",
      "<|start_header_id|> Konserten var helt fantastiske!\n",
      "<|start_header_id|><|start_header_id|>Hun har brug for mere tid til at færdige rapporten.\n",
      "<|start_header_id|>De bor i en smuk hus ved søen.\n",
      "<|start_header_id|>Kan du svømme?\n",
      "<|start_header_id|>Vejrudsigten forudsiger regnede i morgen.\n",
      "<|start_header_id|>Han kan godt lide at gå ud at jogge hver aften.\n",
      "<|start_header_id|> Hun er allergisk overfor peanutter og skaldyr.\n",
      "<|start_header_id|>Museet udstiller gamle artefakter.\n",
      "<|start_header_id|> Lad os spise middag sammen i aften.\n",
      "<|start_header_id|><|start_header_id|>Han vil købe en ny bil næste år.\n"
     ]
    }
   ],
   "source": [
    "def generate_translations(model, english_sentences):\n",
    "    responses = list()\n",
    "    for i, sentence in enumerate(english_sentences):\n",
    "        msg = [\n",
    "              {\"role\": \"system\", \"content\": system_message},\n",
    "              {\"role\": \"user\", \"content\": sentence}\n",
    "        ]\n",
    "        response = client.chat.completions.create(\n",
    "            model=model,\n",
    "            messages=msg,\n",
    "            temperature=0,\n",
    "        )\n",
    "\n",
    "        response = response.choices[0].message.content\n",
    "        print(response)\n",
    "        responses.append(response)   \n",
    "    return responses\n",
    "\n",
    "\n",
    "generate_translations(ft_model_name , df['English'].tolist())"
   ]
  },
  {
   "cell_type": "code",
   "execution_count": null,
   "id": "2faa797b-b61a-4315-9ebd-9639e0c1b584",
   "metadata": {},
   "outputs": [],
   "source": [
    "!firectl undeploy {model_id}"
   ]
  },
  {
   "cell_type": "code",
   "execution_count": null,
   "id": "e1410295-e534-4d4c-ba09-9c4ff691f75e",
   "metadata": {},
   "outputs": [],
   "source": []
  }
 ],
 "metadata": {
  "kernelspec": {
   "display_name": "Python 3 (ipykernel)",
   "language": "python",
   "name": "python3"
  },
  "language_info": {
   "codemirror_mode": {
    "name": "ipython",
    "version": 3
   },
   "file_extension": ".py",
   "mimetype": "text/x-python",
   "name": "python",
   "nbconvert_exporter": "python",
   "pygments_lexer": "ipython3",
   "version": "3.8.16"
  }
 },
 "nbformat": 4,
 "nbformat_minor": 5
}
