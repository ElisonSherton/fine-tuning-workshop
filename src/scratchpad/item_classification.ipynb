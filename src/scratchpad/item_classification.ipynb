{
 "cells": [
  {
   "cell_type": "code",
   "execution_count": 4,
   "id": "65c86e34-bcd2-422c-9af1-853eb0d674e0",
   "metadata": {},
   "outputs": [
    {
     "name": "stdout",
     "output_type": "stream",
     "text": [
      "Requirement already satisfied: fireworks-ai in /Users/scottkramer/.pyenv/versions/3.8.16/envs/fine-tuning-workshop/lib/python3.8/site-packages (0.14.0)\n",
      "Collecting pandas\n",
      "  Using cached pandas-2.0.3-cp38-cp38-macosx_11_0_arm64.whl (10.7 MB)\n",
      "Collecting scikit-learn\n",
      "  Using cached scikit_learn-1.3.2-cp38-cp38-macosx_12_0_arm64.whl (9.4 MB)\n",
      "Requirement already satisfied: Pillow in /Users/scottkramer/.pyenv/versions/3.8.16/envs/fine-tuning-workshop/lib/python3.8/site-packages (from fireworks-ai) (10.3.0)\n",
      "Requirement already satisfied: httpx-sse in /Users/scottkramer/.pyenv/versions/3.8.16/envs/fine-tuning-workshop/lib/python3.8/site-packages (from fireworks-ai) (0.4.0)\n",
      "Requirement already satisfied: pydantic in /Users/scottkramer/.pyenv/versions/3.8.16/envs/fine-tuning-workshop/lib/python3.8/site-packages (from fireworks-ai) (2.7.4)\n",
      "Requirement already satisfied: httpx in /Users/scottkramer/.pyenv/versions/3.8.16/envs/fine-tuning-workshop/lib/python3.8/site-packages (from fireworks-ai) (0.27.0)\n",
      "Requirement already satisfied: numpy>=1.20.3 in /Users/scottkramer/.pyenv/versions/3.8.16/envs/fine-tuning-workshop/lib/python3.8/site-packages (from pandas) (1.24.4)\n",
      "Requirement already satisfied: pytz>=2020.1 in /Users/scottkramer/.pyenv/versions/3.8.16/envs/fine-tuning-workshop/lib/python3.8/site-packages (from pandas) (2024.1)\n",
      "Requirement already satisfied: python-dateutil>=2.8.2 in /Users/scottkramer/.pyenv/versions/3.8.16/envs/fine-tuning-workshop/lib/python3.8/site-packages (from pandas) (2.9.0.post0)\n",
      "Requirement already satisfied: tzdata>=2022.1 in /Users/scottkramer/.pyenv/versions/3.8.16/envs/fine-tuning-workshop/lib/python3.8/site-packages (from pandas) (2024.1)\n",
      "Requirement already satisfied: threadpoolctl>=2.0.0 in /Users/scottkramer/.pyenv/versions/3.8.16/envs/fine-tuning-workshop/lib/python3.8/site-packages (from scikit-learn) (3.5.0)\n",
      "Requirement already satisfied: joblib>=1.1.1 in /Users/scottkramer/.pyenv/versions/3.8.16/envs/fine-tuning-workshop/lib/python3.8/site-packages (from scikit-learn) (1.4.2)\n",
      "Requirement already satisfied: scipy>=1.5.0 in /Users/scottkramer/.pyenv/versions/3.8.16/envs/fine-tuning-workshop/lib/python3.8/site-packages (from scikit-learn) (1.10.1)\n",
      "Requirement already satisfied: six>=1.5 in /Users/scottkramer/.pyenv/versions/3.8.16/envs/fine-tuning-workshop/lib/python3.8/site-packages (from python-dateutil>=2.8.2->pandas) (1.16.0)\n",
      "Requirement already satisfied: anyio in /Users/scottkramer/.pyenv/versions/3.8.16/envs/fine-tuning-workshop/lib/python3.8/site-packages (from httpx->fireworks-ai) (4.4.0)\n",
      "Requirement already satisfied: sniffio in /Users/scottkramer/.pyenv/versions/3.8.16/envs/fine-tuning-workshop/lib/python3.8/site-packages (from httpx->fireworks-ai) (1.3.1)\n",
      "Requirement already satisfied: idna in /Users/scottkramer/.pyenv/versions/3.8.16/envs/fine-tuning-workshop/lib/python3.8/site-packages (from httpx->fireworks-ai) (3.7)\n",
      "Requirement already satisfied: certifi in /Users/scottkramer/.pyenv/versions/3.8.16/envs/fine-tuning-workshop/lib/python3.8/site-packages (from httpx->fireworks-ai) (2024.6.2)\n",
      "Requirement already satisfied: httpcore==1.* in /Users/scottkramer/.pyenv/versions/3.8.16/envs/fine-tuning-workshop/lib/python3.8/site-packages (from httpx->fireworks-ai) (1.0.5)\n",
      "Requirement already satisfied: h11<0.15,>=0.13 in /Users/scottkramer/.pyenv/versions/3.8.16/envs/fine-tuning-workshop/lib/python3.8/site-packages (from httpcore==1.*->httpx->fireworks-ai) (0.14.0)\n",
      "Requirement already satisfied: annotated-types>=0.4.0 in /Users/scottkramer/.pyenv/versions/3.8.16/envs/fine-tuning-workshop/lib/python3.8/site-packages (from pydantic->fireworks-ai) (0.7.0)\n",
      "Requirement already satisfied: typing-extensions>=4.6.1 in /Users/scottkramer/.pyenv/versions/3.8.16/envs/fine-tuning-workshop/lib/python3.8/site-packages (from pydantic->fireworks-ai) (4.12.2)\n",
      "Requirement already satisfied: pydantic-core==2.18.4 in /Users/scottkramer/.pyenv/versions/3.8.16/envs/fine-tuning-workshop/lib/python3.8/site-packages (from pydantic->fireworks-ai) (2.18.4)\n",
      "Requirement already satisfied: exceptiongroup>=1.0.2 in /Users/scottkramer/.pyenv/versions/3.8.16/envs/fine-tuning-workshop/lib/python3.8/site-packages (from anyio->httpx->fireworks-ai) (1.2.1)\n",
      "Installing collected packages: scikit-learn, pandas\n",
      "Successfully installed pandas-2.0.3 scikit-learn-1.3.2\n",
      "\u001b[33mWARNING: You are using pip version 22.0.4; however, version 24.1.2 is available.\n",
      "You should consider upgrading via the '/Users/scottkramer/.pyenv/versions/3.8.16/envs/fine-tuning-workshop/bin/python3.8 -m pip install --upgrade pip' command.\u001b[0m\u001b[33m\n",
      "\u001b[0m"
     ]
    }
   ],
   "source": [
    "!pip install fireworks-ai pandas scikit-learn"
   ]
  },
  {
   "cell_type": "markdown",
   "id": "e5fc6504-c332-4def-a1d0-0d9663af4074",
   "metadata": {},
   "source": [
    "MAKE SURE YOU FOLLOW THE INSTRUCTIONS TO INSTALL FIRECTL, BASED ON YOUR ARCHITECTURE\n",
    "https://readme.fireworks.ai/reference/installation-1"
   ]
  },
  {
   "cell_type": "code",
   "execution_count": 2,
   "id": "f4162827-52f5-45ac-8bfa-74bee9311360",
   "metadata": {},
   "outputs": [
    {
     "name": "stdout",
     "output_type": "stream",
     "text": [
      "Signed in as: sdkramer10@gmail.com\n",
      "Account ID: sdkramer10-5e98cb\n"
     ]
    }
   ],
   "source": [
    "# BEFORE PROCEEDING, MAKE SURE YOU FOLLOW THE INSTRUCTIONS TO INSTALL FIRECTL, BASED ON YOUR ARCHITECTURE \n",
    "# https://readme.fireworks.ai/reference/installation-1\n",
    "\n",
    "# sign in to firectl\n",
    "!firectl signin"
   ]
  },
  {
   "cell_type": "code",
   "execution_count": 5,
   "id": "381a5438-872d-4bfc-9761-43b7e41706f1",
   "metadata": {},
   "outputs": [],
   "source": [
    "import json\n",
    "import os\n",
    "\n",
    "import fireworks.client as fc\n",
    "from fireworks.client import Fireworks\n",
    "import pandas as pd\n",
    "from sklearn.model_selection import train_test_split"
   ]
  },
  {
   "cell_type": "code",
   "execution_count": 6,
   "id": "9c734cde-d776-428a-9baa-664a53016466",
   "metadata": {},
   "outputs": [],
   "source": [
    "# Set this to your Fireworks account id\n",
    "account_id = 'sdkramer10-5e98cb'\n",
    "\n",
    "# Uncomment the line below and set the value to your account's API key\n",
    "# fc.api_key = '<API KEY>'\n",
    "\n",
    "client = Fireworks()"
   ]
  },
  {
   "cell_type": "code",
   "execution_count": 7,
   "id": "ad66aa0a-1b58-473e-bb55-2ef0a829598f",
   "metadata": {},
   "outputs": [],
   "source": [
    "# Load the csv dataset from google drive\n",
    "item_class_csv_url = 'item_classification.csv'\n",
    "df = pd.read_csv(item_class_csv_url)\n",
    "\n",
    "# Perform a train/test split of the data\n",
    "x_train, x_test, y_train, y_test = train_test_split( df['Scope'], df['Class'], test_size=0.2, random_state=42)"
   ]
  },
  {
   "cell_type": "code",
   "execution_count": 63,
   "id": "c6e7d099-3008-468a-ae11-48123a2396c4",
   "metadata": {},
   "outputs": [
    {
     "name": "stdout",
     "output_type": "stream",
     "text": [
      "Classify the following scope. Respond with ONLY the name of the appropriate class from the list below.\n",
      "\n",
      "CLASSES:\n",
      "Pressure Safety Device\n",
      "Piping\n",
      "Structure\n",
      "Pressure Vessel (VIE)\n",
      "FU Items\n",
      "Non Structural Tank\n",
      "Campaign\n",
      "Lifting \n",
      "Corrosion Monitoring\n",
      "Pressure Vessel (VII)\n",
      "Lifting\n",
      "Flare TIP\n",
      "Flame Arrestor\n",
      "Flare Tip\n",
      "Intelligent Pigging\n"
     ]
    }
   ],
   "source": [
    "possible_classes = '\\n'.join(list(y_train.unique()))\n",
    "system_message = f'''Classify the following scope. Respond with ONLY the name of the appropriate class from the list below.\n",
    "\n",
    "CLASSES:\n",
    "{possible_classes}'''\n",
    "\n",
    "print(system_message)"
   ]
  },
  {
   "cell_type": "code",
   "execution_count": 79,
   "id": "db19d372-e3b9-48fe-96df-70352652c961",
   "metadata": {},
   "outputs": [],
   "source": [
    "json_objs = list()\n",
    "for i in range(len(x_train)):\n",
    "    msg = {\"messages\": [\n",
    "        {\"role\": \"system\", \"content\": system_message}, \n",
    "        {\"role\": \"user\", \"content\": x_train.iloc[i]}, \n",
    "        {\"role\": \"assistant\", \"content\": y_train.iloc[i]}\n",
    "    ]}  \n",
    "\n",
    "    json_objs.append(msg)\n",
    "\n",
    "dataset_file_name = 'item_classification.jsonl'\n",
    "dataset_name = 'item-class-v4'\n",
    "\n",
    "with open(dataset_file_name, 'w') as f:\n",
    "    for obj in json_objs:\n",
    "        json.dump(obj, f)\n",
    "        f.write('\\n')"
   ]
  },
  {
   "cell_type": "code",
   "execution_count": 80,
   "id": "2014f264-06b3-47b3-abd5-b2b5bf594848",
   "metadata": {},
   "outputs": [
    {
     "name": "stdout",
     "output_type": "stream",
     "text": [
      "643.77 KiB / 643.77 KiB [---------------------------] 100.00% 3.98 MiB p/s 400ms\n"
     ]
    }
   ],
   "source": [
    "!# Upload our dataset to fireworks\n",
    "!firectl create dataset {dataset_name} {dataset_file_name}"
   ]
  },
  {
   "cell_type": "code",
   "execution_count": 81,
   "id": "84073b47-0dd9-4d1d-b38d-0f53f1b0ccb6",
   "metadata": {},
   "outputs": [
    {
     "name": "stdout",
     "output_type": "stream",
     "text": [
      "Name: accounts/sdkramer10-5e98cb/fineTuningJobs/c55a772445ed48f1bbad2b15c1508b86\n",
      "Display Name: item-class-v4\n",
      "Create Time: 2024-07-09 17:52:30\n",
      "State: CREATING\n",
      "Dataset: accounts/sdkramer10-5e98cb/datasets/item-class-v4\n",
      "Created By: sdkramer10@gmail.com\n",
      "Container Version: \n",
      "Model Id: \n",
      "Wandb Url: \n",
      "Conversation:\n",
      "  Jinja Template: {%- set _mode = mode | default('generate', true) -%}\n",
      "{%- set stop_token = '<|eot_id|>' -%}\n",
      "{%- set message_roles = ['SYSTEM', 'USER', 'ASSISTANT'] -%}\n",
      "{%- set ns = namespace(initial_system_message_handled=false, last_assistant_index_for_eos=-1, messages=messages) -%}\n",
      "{%- for message in ns.messages -%}\n",
      "    {%- if not message.get('role') -%}\n",
      "        {{ raise_exception('Key [role] is missing. Original input: ' +  message|tojson) }}\n",
      "    {%- endif -%}\n",
      "    {%- if message['role'] | upper not in message_roles -%}\n",
      "        {{ raise_exception('Invalid role ' + message['role']|tojson + '. Only ' + message_roles|tojson + ' are supported.') }}\n",
      "    {%- endif -%}\n",
      "    {%- if 'content' not in message -%}\n",
      "        {{ raise_exception('Key [content] is missing. Original input: ' +  message|tojson) }}\n",
      "    {%- endif -%}\n",
      "    {%- if loop.last and message['role'] | upper == 'ASSISTANT' -%}\n",
      "        {%- set ns.last_assistant_index_for_eos = loop.index0 -%}\n",
      "    {%- endif -%}\n",
      "{%- endfor -%}\n",
      "{%- if _mode == 'generate' -%}\n",
      "    {{ bos_token }}\n",
      "{%- endif -%}\n",
      "{%- for message in ns.messages -%}\n",
      "    {%- if message['role'] | upper == 'SYSTEM' and not ns.initial_system_message_handled -%}\n",
      "        {%- set ns.initial_system_message_handled = true -%}\n",
      "        {{ '<|start_header_id|>system<|end_header_id|>\\n\\n' + message['content'] + stop_token }}\n",
      "    {%- elif message['role'] | upper != 'SYSTEM' -%}\n",
      "        {%- if (message['role'] | upper == 'USER') != ((loop.index0 - (1 if ns.initial_system_message_handled else 0)) % 2 == 0) -%}\n",
      "            {{ raise_exception('Conversation roles must alternate user/assistant/user/assistant/...') }}\n",
      "        {%- endif -%}\n",
      "        {%- if message['role'] | upper == 'USER' -%}\n",
      "            {{ '<|start_header_id|>user<|end_header_id|>\\n\\n' + message['content'] + stop_token }}\n",
      "        {%- elif message['role'] | upper == 'ASSISTANT' -%}\n",
      "            {%- if _mode == 'train' -%}\n",
      "                {{ '<|start_header_id|>assistant<|end_header_id|>\\n\\n' + unk_token + message['content'] + stop_token + unk_token }}\n",
      "            {%- else -%}\n",
      "                {{ '<|start_header_id|>assistant<|end_header_id|>\\n\\n' + message['content'] + (stop_token if loop.index0 != ns.last_assistant_index_for_eos else '') }}\n",
      "            {%- endif -%}\n",
      "        {%- endif -%}\n",
      "    {%- endif -%}\n",
      "{%- endfor -%}\n",
      "{%- if _mode == 'generate' and ns.last_assistant_index_for_eos == -1 -%}\n",
      "    {{ '<|start_header_id|>assistant<|end_header_id|>' }}\n",
      "{%- endif -%}\n",
      "\n",
      "Base Model: meta-llama/Meta-Llama-3-8B-Instruct\n",
      "Epochs: 2\n",
      "Learning Rate: 0.0002\n",
      "Lora Rank: 32\n",
      "Batch Size: 4\n",
      "Wandb Entity: \n",
      "Wandb Api Key: \n",
      "Wandb Project: \n"
     ]
    }
   ],
   "source": [
    "!firectl create fine-tuning-job --settings-file item_classification.yaml  --display-name {dataset_name} --dataset {dataset_name} "
   ]
  },
  {
   "cell_type": "code",
   "execution_count": 83,
   "id": "6b708349-7899-4daf-83d4-25d85c21094f",
   "metadata": {},
   "outputs": [],
   "source": [
    "# replace model_id with the id of your fine-tuned model.\n",
    "# In the output from the cell above, the first line is \"Name: accounts/<ACCOUNT_ID>/fineTuningJobs/<MODEL_ID>\"\n",
    "model_id = 'c55a772445ed48f1bbad2b15c1508b86'"
   ]
  },
  {
   "cell_type": "code",
   "execution_count": 84,
   "id": "1ada8693-e697-430f-b84a-2774f4b078bb",
   "metadata": {},
   "outputs": [
    {
     "name": "stdout",
     "output_type": "stream",
     "text": [
      "Name: accounts/sdkramer10-5e98cb/fineTuningJobs/c55a772445ed48f1bbad2b15c1508b86\n",
      "Display Name: item-class-v4\n",
      "Create Time: 2024-07-09 17:52:30\n",
      "State: COMPLETED\n",
      "Dataset: accounts/sdkramer10-5e98cb/datasets/item-class-v4\n",
      "Status: OK\n",
      "Created By: sdkramer10@gmail.com\n",
      "Container Version: \n",
      "Model Id: \n",
      "Wandb Url: \n",
      "Conversation:\n",
      "  Jinja Template: {%- set _mode = mode | default('generate', true) -%}\n",
      "{%- set stop_token = '<|eot_id|>' -%}\n",
      "{%- set message_roles = ['SYSTEM', 'USER', 'ASSISTANT'] -%}\n",
      "{%- set ns = namespace(initial_system_message_handled=false, last_assistant_index_for_eos=-1, messages=messages) -%}\n",
      "{%- for message in ns.messages -%}\n",
      "    {%- if not message.get('role') -%}\n",
      "        {{ raise_exception('Key [role] is missing. Original input: ' +  message|tojson) }}\n",
      "    {%- endif -%}\n",
      "    {%- if message['role'] | upper not in message_roles -%}\n",
      "        {{ raise_exception('Invalid role ' + message['role']|tojson + '. Only ' + message_roles|tojson + ' are supported.') }}\n",
      "    {%- endif -%}\n",
      "    {%- if 'content' not in message -%}\n",
      "        {{ raise_exception('Key [content] is missing. Original input: ' +  message|tojson) }}\n",
      "    {%- endif -%}\n",
      "    {%- if loop.last and message['role'] | upper == 'ASSISTANT' -%}\n",
      "        {%- set ns.last_assistant_index_for_eos = loop.index0 -%}\n",
      "    {%- endif -%}\n",
      "{%- endfor -%}\n",
      "{%- if _mode == 'generate' -%}\n",
      "    {{ bos_token }}\n",
      "{%- endif -%}\n",
      "{%- for message in ns.messages -%}\n",
      "    {%- if message['role'] | upper == 'SYSTEM' and not ns.initial_system_message_handled -%}\n",
      "        {%- set ns.initial_system_message_handled = true -%}\n",
      "        {{ '<|start_header_id|>system<|end_header_id|>\\n\\n' + message['content'] + stop_token }}\n",
      "    {%- elif message['role'] | upper != 'SYSTEM' -%}\n",
      "        {%- if (message['role'] | upper == 'USER') != ((loop.index0 - (1 if ns.initial_system_message_handled else 0)) % 2 == 0) -%}\n",
      "            {{ raise_exception('Conversation roles must alternate user/assistant/user/assistant/...') }}\n",
      "        {%- endif -%}\n",
      "        {%- if message['role'] | upper == 'USER' -%}\n",
      "            {{ '<|start_header_id|>user<|end_header_id|>\\n\\n' + message['content'] + stop_token }}\n",
      "        {%- elif message['role'] | upper == 'ASSISTANT' -%}\n",
      "            {%- if _mode == 'train' -%}\n",
      "                {{ '<|start_header_id|>assistant<|end_header_id|>\\n\\n' + unk_token + message['content'] + stop_token + unk_token }}\n",
      "            {%- else -%}\n",
      "                {{ '<|start_header_id|>assistant<|end_header_id|>\\n\\n' + message['content'] + (stop_token if loop.index0 != ns.last_assistant_index_for_eos else '') }}\n",
      "            {%- endif -%}\n",
      "        {%- endif -%}\n",
      "    {%- endif -%}\n",
      "{%- endfor -%}\n",
      "{%- if _mode == 'generate' and ns.last_assistant_index_for_eos == -1 -%}\n",
      "    {{ '<|start_header_id|>assistant<|end_header_id|>' }}\n",
      "{%- endif -%}\n",
      "\n",
      "Base Model: meta-llama/Meta-Llama-3-8B-Instruct\n",
      "Epochs: 2\n",
      "Learning Rate: 0.0002\n",
      "Lora Rank: 32\n",
      "Batch Size: 4\n",
      "Wandb Entity: \n",
      "Wandb Api Key: \n",
      "Wandb Project: \n"
     ]
    }
   ],
   "source": [
    "# Get the status of the fine-tuning job. Wait until the state says COMPLETED before continuing (~10-20 mins).\n",
    "!firectl get fine-tuning-job {model_id}"
   ]
  },
  {
   "cell_type": "code",
   "execution_count": 85,
   "id": "0592063a-2b61-4c0f-ac1e-57884dc5aef4",
   "metadata": {},
   "outputs": [],
   "source": [
    "!firectl deploy {model_id}"
   ]
  },
  {
   "cell_type": "code",
   "execution_count": 87,
   "id": "f183be1b-357b-402a-a2b9-ccdd4bb3f07f",
   "metadata": {},
   "outputs": [
    {
     "name": "stdout",
     "output_type": "stream",
     "text": [
      "Name: accounts/sdkramer10-5e98cb/models/c55a772445ed48f1bbad2b15c1508b86\n",
      "Display Name: \n",
      "Description: \n",
      "Create Time: 2024-07-09 18:06:43\n",
      "Created By: \n",
      "State: READY\n",
      "Status: OK\n",
      "Kind: HF_PEFT_ADDON\n",
      "Deployment Id: \n",
      "Github Url: \n",
      "Hugging Face Url: \n",
      "Peft Details:\n",
      "  Base Model: accounts/fireworks/models/llama-v3-8b-instruct-hf\n",
      "  R: 32\n",
      "  Target Modules: [\n",
      "    down_proj, \n",
      "    up_proj, \n",
      "    q_proj, \n",
      "    o_proj, \n",
      "    v_proj, \n",
      "    k_proj, \n",
      "    gate_proj\n",
      "  ]\n",
      "Public: false\n",
      "Conversation Config:\n",
      "  Style: jinja\n",
      "  System: \n",
      "  Template: \n",
      "Context Length: 8192\n",
      "Supports Image Input: false\n",
      "Supports Tools: false\n",
      "Imported From: \n",
      "Fine Tuning Job: accounts/sdkramer10-5e98cb/fineTuningJobs/c55a772445ed48f1bbad2b15c1508b86\n",
      "Default Draft Model: \n",
      "Default Draft Token Count: 0\n",
      "Precisions: []\n",
      "Deployed Model Refs: [\n",
      "  {\n",
      "    Name: accounts/sdkramer10-5e98cb/deployedModels/c55a772445ed48f1bbad2b15c1508b86-6ffe0b4b\n",
      "    Deployment: accounts/fireworks/deployments/052a4161\n",
      "    State: DEPLOYED\n",
      "    Default: true\n",
      "  }\n",
      "]\n"
     ]
    }
   ],
   "source": [
    "# Get the model's status. Wait until the \"Deployed Model Refs\" says DEPLOYED before running reference (~15-20 mins).\n",
    "!firectl get model {model_id}"
   ]
  },
  {
   "cell_type": "code",
   "execution_count": 88,
   "id": "66fe0355-429a-4562-8b17-c6fad6272768",
   "metadata": {},
   "outputs": [],
   "source": [
    "ft_model_name = f'accounts/{account_id}/models/{model_id}'"
   ]
  },
  {
   "cell_type": "code",
   "execution_count": 91,
   "id": "1dd4740a-b953-4a1d-8179-bac3e631220b",
   "metadata": {},
   "outputs": [],
   "source": [
    "def generate_results(scopes):\n",
    "    responses = list()\n",
    "    \n",
    "    for scope in scopes:\n",
    "            \n",
    "        msg = [\n",
    "              {\"role\": \"system\", \"content\": system_message},\n",
    "              {\"role\": \"user\", \"content\": scope}\n",
    "        ]\n",
    "        response = client.chat.completions.create(\n",
    "            model=ft_model_name,\n",
    "            messages=msg,\n",
    "            temperature=0,\n",
    "        )\n",
    "    \n",
    "        response = response.choices[0].message.content\n",
    "        responses.append(response) \n",
    "\n",
    "    return responses"
   ]
  },
  {
   "cell_type": "code",
   "execution_count": 92,
   "id": "ef37fb5a-b085-4da6-962f-3fa733f1180a",
   "metadata": {},
   "outputs": [],
   "source": [
    "predictions = generate_results(x_test.tolist())"
   ]
  },
  {
   "cell_type": "code",
   "execution_count": 97,
   "id": "b7c67b4d-a397-4cfc-a279-0e8daba09087",
   "metadata": {},
   "outputs": [
    {
     "name": "stdout",
     "output_type": "stream",
     "text": [
      "Test Set Accuracy: 98.23\n"
     ]
    }
   ],
   "source": [
    "num_correct = len([i for i in range(len(predictions)) if predictions[i] == y_test.iloc[i]])\n",
    "total = len(predictions)\n",
    "pct_accuracy = round(100 * num_correct / total, 2)\n",
    "print(f'Test Set Accuracy: {pct_accuracy}')"
   ]
  },
  {
   "cell_type": "code",
   "execution_count": null,
   "id": "1b327b09-317f-4b6b-a1d7-2cf36983b781",
   "metadata": {},
   "outputs": [],
   "source": [
    "# OPTIONAL: undeploy the model. Fireworks currently does not charge for deploy models, only for usage, so up to you\n",
    "# whether you want to keep it deployed\n",
    "!fireworks undeploy {model_id}"
   ]
  }
 ],
 "metadata": {
  "kernelspec": {
   "display_name": "Python 3 (ipykernel)",
   "language": "python",
   "name": "python3"
  },
  "language_info": {
   "codemirror_mode": {
    "name": "ipython",
    "version": 3
   },
   "file_extension": ".py",
   "mimetype": "text/x-python",
   "name": "python",
   "nbconvert_exporter": "python",
   "pygments_lexer": "ipython3",
   "version": "3.8.16"
  }
 },
 "nbformat": 4,
 "nbformat_minor": 5
}
